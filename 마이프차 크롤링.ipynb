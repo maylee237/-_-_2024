{
 "cells": [
  {
   "cell_type": "code",
   "execution_count": null,
   "metadata": {},
   "outputs": [],
   "source": [
    "import selenium\n",
    "from selenium import webdriver\n",
    "from selenium.webdriver.common.keys import Keys\n",
    "from selenium.webdriver.common.by import By    \n",
    "from urllib.request import (urlopen, urlparse, urlunparse, urlretrieve)\n",
    "import time\n",
    "#import pyautogui\n",
    "from selenium.webdriver.support.wait import WebDriverWait\n",
    "from selenium.webdriver.support import expected_conditions as EC\n",
    "import re\n",
    "import numpy as np\n",
    "import pandas as pd\n",
    "import requests\n",
    "from lxml.html import fromstring\n",
    "from selenium.webdriver.chrome.service import Service\n",
    "from selenium.common.exceptions import NoSuchElementException"
   ]
  },
  {
   "cell_type": "code",
   "execution_count": 2,
   "metadata": {},
   "outputs": [],
   "source": [
    "driver = webdriver.Chrome()\n",
    "time.sleep(1)"
   ]
  },
  {
   "cell_type": "markdown",
   "metadata": {},
   "source": [
    "https://myfranchise.kr/category/contents/%EC%84%9C%EB%B9%84%EC%8A%A4\n",
    "\n",
    "위 링크에서 원하는 카테고리 선택후, 해당 링크로 -> base_url 지정후 크롤링 진행\n",
    "\n",
    "- 가져올것 : 프랜차이즈명,카테고리,세부카테고리"
   ]
  },
  {
   "cell_type": "code",
   "execution_count": 3,
   "metadata": {},
   "outputs": [],
   "source": [
    "base_url = 'https://myfranchise.kr/category/contents/%EC%97%AC%EA%B0%80'\n",
    "driver.get(base_url)\n",
    "\n",
    "html_content = driver.page_source\n",
    "soup_1 = BeautifulSoup(html_content, 'html.parser')"
   ]
  },
  {
   "cell_type": "code",
   "execution_count": null,
   "metadata": {},
   "outputs": [],
   "source": [
    "namess = []\n",
    "categori = []\n",
    "detail_categori = []\n",
    "\n",
    "# url 주소를 웹 페이지 읽어 오기\n",
    "# 1. 먼저 총 페이지를 파악한후 \n",
    "import time\n",
    "\n",
    "\n",
    "# 첫번째 페이지에 대한 처리\n",
    "url = base_url + '?page=1'\n",
    "print(url)\n",
    "driver.get(url)\n",
    "time.sleep(1)\n",
    "\n",
    "current_url = driver.current_url\n",
    "page_number = current_url.split(\"page=\")[-1]\n",
    "\n",
    "html_content = driver.page_source\n",
    "soup_1 = BeautifulSoup(html_content, 'html.parser')\n",
    "bit_categori = soup_1.find('button', class_='css-24moo9')\n",
    "if bit_categori :\n",
    "    print(bit_categori.text)\n",
    "else :\n",
    "    pass\n",
    "names = soup_1.find_all('p', class_='brandName css-1x0rbzi')\n",
    "namess.extend([name.text for name in names])  # 각 요소의 텍스트를 리스트에 추가\n",
    "detail = soup_1.find_all('p', class_='css-1nybzwc')\n",
    "detail_categori.extend([detail.text for detail in detail])  # 각 요소의 텍스트를 리스트에 추가\n",
    "print(f'{page_number} : {len(names)}')\n",
    "\n",
    "time.sleep(1)\n",
    "\n",
    "# 두번째 페이지부터 무한 루프 시작\n",
    "i = 2\n",
    "while True:\n",
    "    # 다음 페이지로 넘어가는 버튼 찾기\n",
    "    url = base_url + f'?page={i}'\n",
    "    print(url)\n",
    "    driver.get(url)\n",
    "    time.sleep(2)\n",
    "\n",
    "    current_url = driver.current_url\n",
    "    page_number = current_url.split(\"page=\")[-1]\n",
    "\n",
    "    html_content = driver.page_source\n",
    "    soup_1 = BeautifulSoup(html_content, 'html.parser')\n",
    "    bit_categori = soup_1.find('button', class_='css-24moo9')\n",
    "    if bit_categori :\n",
    "        print(bit_categori.text)\n",
    "    else :\n",
    "        pass\n",
    "    #print(bit_categori.text)\n",
    "    names = soup_1.find_all('p', class_='brandName css-1x0rbzi')\n",
    "    namess.extend([name.text for name in names])  # 각 요소의 텍스트를 리스트에 추가\n",
    "    detail = soup_1.find_all('p', class_='css-1nybzwc')\n",
    "    detail_categori.extend([detail.text for detail in detail])  # 각 요소의 텍스트를 리스트에 추가\n",
    "    print(f'{page_number} : {len(names)}')\n",
    "\n",
    "    time.sleep(1)\n",
    "    i += 1\n",
    "\n",
    "    if page_number == str(1):  # 현재 페이지 번호가 1이면\n",
    "        break  # 루프 종료\n",
    "\n",
    "\n",
    "\n",
    "# 2. 그값을 for문에 넣어서 크롤링 진행     "
   ]
  },
  {
   "cell_type": "code",
   "execution_count": null,
   "metadata": {},
   "outputs": [],
   "source": [
    "detail_categori2 = detail_categori[2::2]\n",
    "df = pd.DataFrame({'name': namess,\n",
    "              'cate': detail_categori2})\n",
    "df\n",
    "\n",
    "# 카테고리별 df 생성후 정리"
   ]
  },
  {
   "cell_type": "code",
   "execution_count": null,
   "metadata": {},
   "outputs": [],
   "source": [
    "driver.quit()"
   ]
  },
  {
   "cell_type": "markdown",
   "metadata": {},
   "source": [
    "### 파일정리"
   ]
  },
  {
   "cell_type": "code",
   "execution_count": 168,
   "metadata": {},
   "outputs": [],
   "source": [
    "#카테고리별 정리\n",
    "df  = df.drop_duplicates(subset=['name','cate'],keep='first')\n",
    "df2 = df2.drop_duplicates(subset=['name','cate'],keep='first')\n",
    "df3 = df3.drop_duplicates(subset=['name','cate'],keep='first')"
   ]
  },
  {
   "cell_type": "code",
   "execution_count": 171,
   "metadata": {},
   "outputs": [],
   "source": [
    "df.to_excel(\"생활서비스2.xlsx\")\n",
    "df2.to_excel(\"여가.xlsx\")\n",
    "df3.to_excel(\"판매업.xlsx\")"
   ]
  }
 ],
 "metadata": {
  "kernelspec": {
   "display_name": "Python 3",
   "language": "python",
   "name": "python3"
  },
  "language_info": {
   "codemirror_mode": {
    "name": "ipython",
    "version": 3
   },
   "file_extension": ".py",
   "mimetype": "text/x-python",
   "name": "python",
   "nbconvert_exporter": "python",
   "pygments_lexer": "ipython3",
   "version": "3.9.2rc1"
  }
 },
 "nbformat": 4,
 "nbformat_minor": 2
}
